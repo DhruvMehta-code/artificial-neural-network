{
  "cells": [
    {
      "cell_type": "code",
      "execution_count": 1,
      "id": "e695b756-4363-47e3-b2e5-43e8efd83097",
      "metadata": {
        "id": "e695b756-4363-47e3-b2e5-43e8efd83097"
      },
      "outputs": [],
      "source": [
        "# All the Libraries regarding NN and Data Frame Manipulation\n",
        "import pandas as pd\n",
        "import seaborn as sns\n",
        "import numpy as np\n",
        "import matplotlib.pyplot as plt\n",
        "from sklearn.preprocessing import LabelEncoder\n",
        "from sklearn.preprocessing import OneHotEncoder\n",
        "from sklearn.preprocessing import StandardScaler\n",
        "from keras.utils.np_utils import to_categorical\n",
        "from sklearn.model_selection import train_test_split\n",
        "from imblearn.over_sampling import SMOTE\n",
        "import tensorflow as tf\n",
        "from tensorflow import keras\n",
        "from keras.models import Sequential \n",
        "from keras import Input \n",
        "from keras.layers import LSTM, Dense, Activation , Flatten, Reshape, SimpleRNN, Dropout, Conv1D,MaxPooling1D, ZeroPadding1D\n",
        "from keras.callbacks import Callback,EarlyStopping, ModelCheckpoint"
      ]
    },
    {
      "cell_type": "code",
      "execution_count": 2,
      "id": "67b8020b-03be-479e-bac4-f220abc9c622",
      "metadata": {
        "tags": [],
        "colab": {
          "base_uri": "https://localhost:8080/",
          "height": 328
        },
        "id": "67b8020b-03be-479e-bac4-f220abc9c622",
        "outputId": "16408971-4ca2-4861-cb97-1a1c892009ee"
      },
      "outputs": [
        {
          "output_type": "error",
          "ename": "FileNotFoundError",
          "evalue": "ignored",
          "traceback": [
            "\u001b[0;31m---------------------------------------------------------------------------\u001b[0m",
            "\u001b[0;31mFileNotFoundError\u001b[0m                         Traceback (most recent call last)",
            "\u001b[0;32m<ipython-input-2-3b93d231f1ee>\u001b[0m in \u001b[0;36m<module>\u001b[0;34m\u001b[0m\n\u001b[1;32m      1\u001b[0m \u001b[0;31m# Reading Dataset\u001b[0m\u001b[0;34m\u001b[0m\u001b[0;34m\u001b[0m\u001b[0m\n\u001b[0;32m----> 2\u001b[0;31m \u001b[0mdf\u001b[0m \u001b[0;34m=\u001b[0m \u001b[0mpd\u001b[0m\u001b[0;34m.\u001b[0m\u001b[0mread_csv\u001b[0m\u001b[0;34m(\u001b[0m\u001b[0;34m\"star_classification.csv\"\u001b[0m\u001b[0;34m)\u001b[0m\u001b[0;34m\u001b[0m\u001b[0;34m\u001b[0m\u001b[0m\n\u001b[0m",
            "\u001b[0;32m/usr/local/lib/python3.9/dist-packages/pandas/util/_decorators.py\u001b[0m in \u001b[0;36mwrapper\u001b[0;34m(*args, **kwargs)\u001b[0m\n\u001b[1;32m    309\u001b[0m                     \u001b[0mstacklevel\u001b[0m\u001b[0;34m=\u001b[0m\u001b[0mstacklevel\u001b[0m\u001b[0;34m,\u001b[0m\u001b[0;34m\u001b[0m\u001b[0;34m\u001b[0m\u001b[0m\n\u001b[1;32m    310\u001b[0m                 )\n\u001b[0;32m--> 311\u001b[0;31m             \u001b[0;32mreturn\u001b[0m \u001b[0mfunc\u001b[0m\u001b[0;34m(\u001b[0m\u001b[0;34m*\u001b[0m\u001b[0margs\u001b[0m\u001b[0;34m,\u001b[0m \u001b[0;34m**\u001b[0m\u001b[0mkwargs\u001b[0m\u001b[0;34m)\u001b[0m\u001b[0;34m\u001b[0m\u001b[0;34m\u001b[0m\u001b[0m\n\u001b[0m\u001b[1;32m    312\u001b[0m \u001b[0;34m\u001b[0m\u001b[0m\n\u001b[1;32m    313\u001b[0m         \u001b[0;32mreturn\u001b[0m \u001b[0mwrapper\u001b[0m\u001b[0;34m\u001b[0m\u001b[0;34m\u001b[0m\u001b[0m\n",
            "\u001b[0;32m/usr/local/lib/python3.9/dist-packages/pandas/io/parsers/readers.py\u001b[0m in \u001b[0;36mread_csv\u001b[0;34m(filepath_or_buffer, sep, delimiter, header, names, index_col, usecols, squeeze, prefix, mangle_dupe_cols, dtype, engine, converters, true_values, false_values, skipinitialspace, skiprows, skipfooter, nrows, na_values, keep_default_na, na_filter, verbose, skip_blank_lines, parse_dates, infer_datetime_format, keep_date_col, date_parser, dayfirst, cache_dates, iterator, chunksize, compression, thousands, decimal, lineterminator, quotechar, quoting, doublequote, escapechar, comment, encoding, encoding_errors, dialect, error_bad_lines, warn_bad_lines, on_bad_lines, delim_whitespace, low_memory, memory_map, float_precision, storage_options)\u001b[0m\n\u001b[1;32m    584\u001b[0m     \u001b[0mkwds\u001b[0m\u001b[0;34m.\u001b[0m\u001b[0mupdate\u001b[0m\u001b[0;34m(\u001b[0m\u001b[0mkwds_defaults\u001b[0m\u001b[0;34m)\u001b[0m\u001b[0;34m\u001b[0m\u001b[0;34m\u001b[0m\u001b[0m\n\u001b[1;32m    585\u001b[0m \u001b[0;34m\u001b[0m\u001b[0m\n\u001b[0;32m--> 586\u001b[0;31m     \u001b[0;32mreturn\u001b[0m \u001b[0m_read\u001b[0m\u001b[0;34m(\u001b[0m\u001b[0mfilepath_or_buffer\u001b[0m\u001b[0;34m,\u001b[0m \u001b[0mkwds\u001b[0m\u001b[0;34m)\u001b[0m\u001b[0;34m\u001b[0m\u001b[0;34m\u001b[0m\u001b[0m\n\u001b[0m\u001b[1;32m    587\u001b[0m \u001b[0;34m\u001b[0m\u001b[0m\n\u001b[1;32m    588\u001b[0m \u001b[0;34m\u001b[0m\u001b[0m\n",
            "\u001b[0;32m/usr/local/lib/python3.9/dist-packages/pandas/io/parsers/readers.py\u001b[0m in \u001b[0;36m_read\u001b[0;34m(filepath_or_buffer, kwds)\u001b[0m\n\u001b[1;32m    480\u001b[0m \u001b[0;34m\u001b[0m\u001b[0m\n\u001b[1;32m    481\u001b[0m     \u001b[0;31m# Create the parser.\u001b[0m\u001b[0;34m\u001b[0m\u001b[0;34m\u001b[0m\u001b[0m\n\u001b[0;32m--> 482\u001b[0;31m     \u001b[0mparser\u001b[0m \u001b[0;34m=\u001b[0m \u001b[0mTextFileReader\u001b[0m\u001b[0;34m(\u001b[0m\u001b[0mfilepath_or_buffer\u001b[0m\u001b[0;34m,\u001b[0m \u001b[0;34m**\u001b[0m\u001b[0mkwds\u001b[0m\u001b[0;34m)\u001b[0m\u001b[0;34m\u001b[0m\u001b[0;34m\u001b[0m\u001b[0m\n\u001b[0m\u001b[1;32m    483\u001b[0m \u001b[0;34m\u001b[0m\u001b[0m\n\u001b[1;32m    484\u001b[0m     \u001b[0;32mif\u001b[0m \u001b[0mchunksize\u001b[0m \u001b[0;32mor\u001b[0m \u001b[0miterator\u001b[0m\u001b[0;34m:\u001b[0m\u001b[0;34m\u001b[0m\u001b[0;34m\u001b[0m\u001b[0m\n",
            "\u001b[0;32m/usr/local/lib/python3.9/dist-packages/pandas/io/parsers/readers.py\u001b[0m in \u001b[0;36m__init__\u001b[0;34m(self, f, engine, **kwds)\u001b[0m\n\u001b[1;32m    809\u001b[0m             \u001b[0mself\u001b[0m\u001b[0;34m.\u001b[0m\u001b[0moptions\u001b[0m\u001b[0;34m[\u001b[0m\u001b[0;34m\"has_index_names\"\u001b[0m\u001b[0;34m]\u001b[0m \u001b[0;34m=\u001b[0m \u001b[0mkwds\u001b[0m\u001b[0;34m[\u001b[0m\u001b[0;34m\"has_index_names\"\u001b[0m\u001b[0;34m]\u001b[0m\u001b[0;34m\u001b[0m\u001b[0;34m\u001b[0m\u001b[0m\n\u001b[1;32m    810\u001b[0m \u001b[0;34m\u001b[0m\u001b[0m\n\u001b[0;32m--> 811\u001b[0;31m         \u001b[0mself\u001b[0m\u001b[0;34m.\u001b[0m\u001b[0m_engine\u001b[0m \u001b[0;34m=\u001b[0m \u001b[0mself\u001b[0m\u001b[0;34m.\u001b[0m\u001b[0m_make_engine\u001b[0m\u001b[0;34m(\u001b[0m\u001b[0mself\u001b[0m\u001b[0;34m.\u001b[0m\u001b[0mengine\u001b[0m\u001b[0;34m)\u001b[0m\u001b[0;34m\u001b[0m\u001b[0;34m\u001b[0m\u001b[0m\n\u001b[0m\u001b[1;32m    812\u001b[0m \u001b[0;34m\u001b[0m\u001b[0m\n\u001b[1;32m    813\u001b[0m     \u001b[0;32mdef\u001b[0m \u001b[0mclose\u001b[0m\u001b[0;34m(\u001b[0m\u001b[0mself\u001b[0m\u001b[0;34m)\u001b[0m\u001b[0;34m:\u001b[0m\u001b[0;34m\u001b[0m\u001b[0;34m\u001b[0m\u001b[0m\n",
            "\u001b[0;32m/usr/local/lib/python3.9/dist-packages/pandas/io/parsers/readers.py\u001b[0m in \u001b[0;36m_make_engine\u001b[0;34m(self, engine)\u001b[0m\n\u001b[1;32m   1038\u001b[0m             )\n\u001b[1;32m   1039\u001b[0m         \u001b[0;31m# error: Too many arguments for \"ParserBase\"\u001b[0m\u001b[0;34m\u001b[0m\u001b[0;34m\u001b[0m\u001b[0m\n\u001b[0;32m-> 1040\u001b[0;31m         \u001b[0;32mreturn\u001b[0m \u001b[0mmapping\u001b[0m\u001b[0;34m[\u001b[0m\u001b[0mengine\u001b[0m\u001b[0;34m]\u001b[0m\u001b[0;34m(\u001b[0m\u001b[0mself\u001b[0m\u001b[0;34m.\u001b[0m\u001b[0mf\u001b[0m\u001b[0;34m,\u001b[0m \u001b[0;34m**\u001b[0m\u001b[0mself\u001b[0m\u001b[0;34m.\u001b[0m\u001b[0moptions\u001b[0m\u001b[0;34m)\u001b[0m  \u001b[0;31m# type: ignore[call-arg]\u001b[0m\u001b[0;34m\u001b[0m\u001b[0;34m\u001b[0m\u001b[0m\n\u001b[0m\u001b[1;32m   1041\u001b[0m \u001b[0;34m\u001b[0m\u001b[0m\n\u001b[1;32m   1042\u001b[0m     \u001b[0;32mdef\u001b[0m \u001b[0m_failover_to_python\u001b[0m\u001b[0;34m(\u001b[0m\u001b[0mself\u001b[0m\u001b[0;34m)\u001b[0m\u001b[0;34m:\u001b[0m\u001b[0;34m\u001b[0m\u001b[0;34m\u001b[0m\u001b[0m\n",
            "\u001b[0;32m/usr/local/lib/python3.9/dist-packages/pandas/io/parsers/c_parser_wrapper.py\u001b[0m in \u001b[0;36m__init__\u001b[0;34m(self, src, **kwds)\u001b[0m\n\u001b[1;32m     49\u001b[0m \u001b[0;34m\u001b[0m\u001b[0m\n\u001b[1;32m     50\u001b[0m         \u001b[0;31m# open handles\u001b[0m\u001b[0;34m\u001b[0m\u001b[0;34m\u001b[0m\u001b[0m\n\u001b[0;32m---> 51\u001b[0;31m         \u001b[0mself\u001b[0m\u001b[0;34m.\u001b[0m\u001b[0m_open_handles\u001b[0m\u001b[0;34m(\u001b[0m\u001b[0msrc\u001b[0m\u001b[0;34m,\u001b[0m \u001b[0mkwds\u001b[0m\u001b[0;34m)\u001b[0m\u001b[0;34m\u001b[0m\u001b[0;34m\u001b[0m\u001b[0m\n\u001b[0m\u001b[1;32m     52\u001b[0m         \u001b[0;32massert\u001b[0m \u001b[0mself\u001b[0m\u001b[0;34m.\u001b[0m\u001b[0mhandles\u001b[0m \u001b[0;32mis\u001b[0m \u001b[0;32mnot\u001b[0m \u001b[0;32mNone\u001b[0m\u001b[0;34m\u001b[0m\u001b[0;34m\u001b[0m\u001b[0m\n\u001b[1;32m     53\u001b[0m \u001b[0;34m\u001b[0m\u001b[0m\n",
            "\u001b[0;32m/usr/local/lib/python3.9/dist-packages/pandas/io/parsers/base_parser.py\u001b[0m in \u001b[0;36m_open_handles\u001b[0;34m(self, src, kwds)\u001b[0m\n\u001b[1;32m    220\u001b[0m         \u001b[0mLet\u001b[0m \u001b[0mthe\u001b[0m \u001b[0mreaders\u001b[0m \u001b[0mopen\u001b[0m \u001b[0mIOHandles\u001b[0m \u001b[0mafter\u001b[0m \u001b[0mthey\u001b[0m \u001b[0mare\u001b[0m \u001b[0mdone\u001b[0m \u001b[0;32mwith\u001b[0m \u001b[0mtheir\u001b[0m \u001b[0mpotential\u001b[0m \u001b[0mraises\u001b[0m\u001b[0;34m.\u001b[0m\u001b[0;34m\u001b[0m\u001b[0;34m\u001b[0m\u001b[0m\n\u001b[1;32m    221\u001b[0m         \"\"\"\n\u001b[0;32m--> 222\u001b[0;31m         self.handles = get_handle(\n\u001b[0m\u001b[1;32m    223\u001b[0m             \u001b[0msrc\u001b[0m\u001b[0;34m,\u001b[0m\u001b[0;34m\u001b[0m\u001b[0;34m\u001b[0m\u001b[0m\n\u001b[1;32m    224\u001b[0m             \u001b[0;34m\"r\"\u001b[0m\u001b[0;34m,\u001b[0m\u001b[0;34m\u001b[0m\u001b[0;34m\u001b[0m\u001b[0m\n",
            "\u001b[0;32m/usr/local/lib/python3.9/dist-packages/pandas/io/common.py\u001b[0m in \u001b[0;36mget_handle\u001b[0;34m(path_or_buf, mode, encoding, compression, memory_map, is_text, errors, storage_options)\u001b[0m\n\u001b[1;32m    700\u001b[0m         \u001b[0;32mif\u001b[0m \u001b[0mioargs\u001b[0m\u001b[0;34m.\u001b[0m\u001b[0mencoding\u001b[0m \u001b[0;32mand\u001b[0m \u001b[0;34m\"b\"\u001b[0m \u001b[0;32mnot\u001b[0m \u001b[0;32min\u001b[0m \u001b[0mioargs\u001b[0m\u001b[0;34m.\u001b[0m\u001b[0mmode\u001b[0m\u001b[0;34m:\u001b[0m\u001b[0;34m\u001b[0m\u001b[0;34m\u001b[0m\u001b[0m\n\u001b[1;32m    701\u001b[0m             \u001b[0;31m# Encoding\u001b[0m\u001b[0;34m\u001b[0m\u001b[0;34m\u001b[0m\u001b[0m\n\u001b[0;32m--> 702\u001b[0;31m             handle = open(\n\u001b[0m\u001b[1;32m    703\u001b[0m                 \u001b[0mhandle\u001b[0m\u001b[0;34m,\u001b[0m\u001b[0;34m\u001b[0m\u001b[0;34m\u001b[0m\u001b[0m\n\u001b[1;32m    704\u001b[0m                 \u001b[0mioargs\u001b[0m\u001b[0;34m.\u001b[0m\u001b[0mmode\u001b[0m\u001b[0;34m,\u001b[0m\u001b[0;34m\u001b[0m\u001b[0;34m\u001b[0m\u001b[0m\n",
            "\u001b[0;31mFileNotFoundError\u001b[0m: [Errno 2] No such file or directory: 'star_classification.csv'"
          ]
        }
      ],
      "source": [
        "# Reading Dataset\n",
        "df = pd.read_csv(\"star_classification.csv\")"
      ]
    },
    {
      "cell_type": "code",
      "execution_count": null,
      "id": "b8f9f8de-960a-42d2-8b6b-abfde4366232",
      "metadata": {
        "id": "b8f9f8de-960a-42d2-8b6b-abfde4366232"
      },
      "outputs": [],
      "source": [
        "# First 5 rows of dataset\n",
        "df.head()"
      ]
    },
    {
      "cell_type": "code",
      "execution_count": null,
      "id": "9ad59f1b-2ed0-4bbf-b8b7-f2672ac17175",
      "metadata": {
        "tags": [],
        "id": "9ad59f1b-2ed0-4bbf-b8b7-f2672ac17175"
      },
      "outputs": [],
      "source": [
        "# information of dataset with datatypes\n",
        "df.info()"
      ]
    },
    {
      "cell_type": "code",
      "execution_count": null,
      "id": "97d1e657-5315-4023-8138-ebe06be74028",
      "metadata": {
        "id": "97d1e657-5315-4023-8138-ebe06be74028"
      },
      "outputs": [],
      "source": [
        "# Statiscal Information with transpose Matrix\n",
        "df.describe().T"
      ]
    },
    {
      "cell_type": "code",
      "execution_count": null,
      "id": "a2810043-097a-43a3-a423-4ac390f3b908",
      "metadata": {
        "tags": [],
        "id": "a2810043-097a-43a3-a423-4ac390f3b908"
      },
      "outputs": [],
      "source": [
        "# Checking Unique Values\n",
        "df.nunique()"
      ]
    },
    {
      "cell_type": "code",
      "execution_count": null,
      "id": "37df881d-63c0-4e15-9149-05403197f7dd",
      "metadata": {
        "id": "37df881d-63c0-4e15-9149-05403197f7dd"
      },
      "outputs": [],
      "source": [
        "# dropping Unnecesarry Values\n",
        "df = df.drop(columns=[\"obj_ID\", \"rerun_ID\"])"
      ]
    },
    {
      "cell_type": "code",
      "execution_count": null,
      "id": "61e85f8a-b1e9-40a6-afe2-9fe4e73a3bca",
      "metadata": {
        "tags": [],
        "id": "61e85f8a-b1e9-40a6-afe2-9fe4e73a3bca"
      },
      "outputs": [],
      "source": [
        "# Encoding Target Columns\n",
        "encode = LabelEncoder()\n",
        "df['class'] = encode.fit_transform(df['class'])\n",
        "df['class'].value_counts()"
      ]
    },
    {
      "cell_type": "code",
      "execution_count": null,
      "id": "7b8799f2-f55c-4055-8e97-4efd233ec7eb",
      "metadata": {
        "tags": [],
        "id": "7b8799f2-f55c-4055-8e97-4efd233ec7eb"
      },
      "outputs": [],
      "source": [
        "# Counting Plot\n",
        "sns.countplot(data=df, x='class')\n",
        "plt.title(\"Distribution of Classes\")\n",
        "plt.xlabel(\"Class\")\n",
        "plt.ylabel(\"Count\")\n",
        "plt.show()\n"
      ]
    },
    {
      "cell_type": "code",
      "execution_count": null,
      "id": "aeabb61d-d34b-4a4e-a92b-8c483dc928b1",
      "metadata": {
        "tags": [],
        "id": "aeabb61d-d34b-4a4e-a92b-8c483dc928b1"
      },
      "outputs": [],
      "source": [
        "# Finding Correlation\n",
        "df.corr()"
      ]
    },
    {
      "cell_type": "code",
      "execution_count": null,
      "id": "a35f73e4-7b51-419e-b2fa-a8e5ce69c02d",
      "metadata": {
        "tags": [],
        "id": "a35f73e4-7b51-419e-b2fa-a8e5ce69c02d"
      },
      "outputs": [],
      "source": [
        "# Correalation Heatmap\n",
        "plt.figure(figsize=(13,6))\n",
        "dataplot = sns.heatmap(df.corr(),cmap = 'YlGnBu',annot=True)\n"
      ]
    },
    {
      "cell_type": "code",
      "execution_count": null,
      "id": "553b0982-09c3-4baf-919e-4b7c1c294554",
      "metadata": {
        "tags": [],
        "id": "553b0982-09c3-4baf-919e-4b7c1c294554"
      },
      "outputs": [],
      "source": [
        "#Pair Plot which describes relation between each variables\n",
        "sns.pairplot(data=df, vars=['alpha', 'delta', 'u', 'g', 'r', 'i', 'z', 'redshift'], hue='class', height=2)\n",
        "plt.show()\n"
      ]
    },
    {
      "cell_type": "code",
      "execution_count": null,
      "id": "c50cbdbb-b528-4b49-8029-03121a6443df",
      "metadata": {
        "tags": [],
        "id": "c50cbdbb-b528-4b49-8029-03121a6443df"
      },
      "outputs": [],
      "source": [
        "# histogram of Class (target variable)\n",
        "df.plot(kind='hist',x = 'class')"
      ]
    },
    {
      "cell_type": "code",
      "execution_count": null,
      "id": "4595e692-a129-4dcb-9a40-162ff397b5d5",
      "metadata": {
        "tags": [],
        "id": "4595e692-a129-4dcb-9a40-162ff397b5d5"
      },
      "outputs": [],
      "source": [
        "x = df.drop('class',axis='columns')\n",
        "y = df['class']"
      ]
    },
    {
      "cell_type": "code",
      "execution_count": null,
      "id": "d12f778f-194a-487e-97fa-a20b96540714",
      "metadata": {
        "tags": [],
        "id": "d12f778f-194a-487e-97fa-a20b96540714"
      },
      "outputs": [],
      "source": [
        "# spliting test and train\n",
        "x_train, x_test, y_train, y_test = train_test_split(x, y, test_size = 0.3,random_state=42)\n",
        "\n",
        "# normalized standard scaling\n",
        "scaler = StandardScaler()\n",
        "x_scl = scaler.fit_transform(x_train)\n",
        "x_test_scl = scaler.transform(x_test)"
      ]
    },
    {
      "cell_type": "code",
      "execution_count": null,
      "id": "ab01c704-7a80-44c3-8a5c-547b3fcaa30a",
      "metadata": {
        "tags": [],
        "id": "ab01c704-7a80-44c3-8a5c-547b3fcaa30a"
      },
      "outputs": [],
      "source": [
        "# Converting into 3d Tensor\n",
        "y_scl = to_categorical(y_train, num_classes=3)\n",
        "y_test_scl = to_categorical(y_test, num_classes=3)\n"
      ]
    },
    {
      "cell_type": "code",
      "execution_count": null,
      "id": "6ebc332f-d044-417a-82b8-d1cfe88508b6",
      "metadata": {
        "id": "6ebc332f-d044-417a-82b8-d1cfe88508b6"
      },
      "outputs": [],
      "source": [
        "# tarining MLP Model\n",
        "model = Sequential([\n",
        "    Dense(64, activation='relu', input_dim=15), #Input layer\n",
        "    Dropout(0.2),\n",
        "    Dense(32, activation='relu'),# hidden layer\n",
        "    Dropout(0.2),\n",
        "    Dense(16, activation='sigmoid'),# hidden layer\n",
        "    Dropout(0.2),\n",
        "    Dense(3, activation='softmax')# output layer\n",
        "])\n",
        "early_stop = EarlyStopping(monitor='val_loss', patience=10, verbose=1, mode='min', restore_best_weights=True)\n",
        "checkpoint = ModelCheckpoint('best_model.h5', monitor='val_accuracy', mode='max', save_best_only=True, verbose=1)\n",
        "\n",
        "# Compilation and fitting model with early stoping & check point\n",
        "model.compile(optimizer='adam', loss='categorical_crossentropy', metrics=['accuracy'])\n",
        "history = model.fit(x_scl,y_scl,epochs=20,validation_split=0.35,callbacks=[early_stop, checkpoint],validation_data=[x_test_scl,y_test_scl])\n",
        "\n"
      ]
    },
    {
      "cell_type": "code",
      "execution_count": null,
      "id": "bb5dc658-9dfe-4f9c-b912-4c63c96f92d5",
      "metadata": {
        "id": "bb5dc658-9dfe-4f9c-b912-4c63c96f92d5"
      },
      "outputs": [],
      "source": [
        "# finding loss and Accuracy\n",
        "loss, accuracy = model.evaluate(x_test_scl, y_test_scl)\n",
        "print(loss,accuracy)"
      ]
    },
    {
      "cell_type": "code",
      "execution_count": null,
      "id": "0ae5bfa6-f954-4cf1-a483-86a3c071b879",
      "metadata": {
        "tags": [],
        "id": "0ae5bfa6-f954-4cf1-a483-86a3c071b879"
      },
      "outputs": [],
      "source": [
        "# plotting Loss \n",
        "loss_train = history.history['loss']\n",
        "loss_val = history.history['val_loss']\n",
        "epochs = range(1,21)\n",
        "plt.plot(epochs, loss_train, 'g', label='Training loss')\n",
        "plt.plot(epochs, loss_val, 'b', label='validation loss')\n",
        "plt.title('Training and Validation loss')\n",
        "plt.xlabel('Epochs')\n",
        "plt.ylabel('Loss')\n",
        "plt.legend()\n",
        "plt.show()"
      ]
    },
    {
      "cell_type": "code",
      "execution_count": null,
      "id": "ad75db39-e38b-477a-b2a9-c94a94b269fd",
      "metadata": {
        "tags": [],
        "id": "ad75db39-e38b-477a-b2a9-c94a94b269fd"
      },
      "outputs": [],
      "source": [
        "# plotting Accuracy\n",
        "loss_accu = history.history['accuracy']\n",
        "loss_val_accu = history.history['val_accuracy']\n",
        "epochs = range(1,21)\n",
        "plt.plot(epochs, loss_accu, 'g', label='Training Accuracy')\n",
        "plt.plot(epochs, loss_val_accu, 'b', label='validation Accuracy')\n",
        "plt.title('Training and Validation Accuracy')\n",
        "plt.xlabel('Epochs')\n",
        "plt.ylabel('accuracy')\n",
        "plt.legend()\n",
        "plt.show()"
      ]
    },
    {
      "cell_type": "code",
      "execution_count": null,
      "id": "bab358a6-d037-4683-bc6a-82a524f9d494",
      "metadata": {
        "tags": [],
        "id": "bab358a6-d037-4683-bc6a-82a524f9d494"
      },
      "outputs": [],
      "source": [
        "# Reshape data to be compatible with LSTM input\n",
        "x_scl_lstm = np.reshape(x_scl, (x_scl.shape[0], 1, x_scl.shape[1]))\n",
        "x_test_scl_lstm = np.reshape(x_test_scl, (x_test_scl.shape[0], 1, x_test_scl.shape[1]))\n",
        "\n",
        "model = Sequential([\n",
        "    LSTM(128, input_shape=(x_scl_lstm.shape[1], x_scl_lstm.shape[2]), activation='tanh', return_sequences=True), #LSTM input layer\n",
        "    Dropout(0.2),\n",
        "    LSTM(64, activation='tanh'), # hidden LSTM layer\n",
        "    Dense(3, activation='sigmoid')\n",
        "])\n",
        "\n",
        "model.compile(optimizer='adam', loss='categorical_crossentropy', metrics=['accuracy'])\n",
        "\n",
        "early_stop = EarlyStopping(monitor='val_loss', patience=10, verbose=1, mode='min', restore_best_weights=True)\n",
        "\n",
        "hist = model.fit(x_scl_lstm, y_scl, epochs=20, validation_split=0.35, batch_size=64, callbacks=[early_stop],validation_data=(x_test_scl_lstm, y_test_scl))"
      ]
    },
    {
      "cell_type": "code",
      "execution_count": null,
      "id": "79cb459f-4646-4428-b80b-79245cbc9a89",
      "metadata": {
        "id": "79cb459f-4646-4428-b80b-79245cbc9a89"
      },
      "outputs": [],
      "source": [
        "loss, accuracy = model.evaluate(x_test_scl_lstm, y_test_scl)\n",
        "print(loss,accuracy)"
      ]
    },
    {
      "cell_type": "code",
      "execution_count": null,
      "id": "9e71fe42-e041-46a2-82e4-8b4ecfeb8a4c",
      "metadata": {
        "tags": [],
        "id": "9e71fe42-e041-46a2-82e4-8b4ecfeb8a4c"
      },
      "outputs": [],
      "source": [
        "loss_train = hist.history['loss']\n",
        "loss_val = hist.history['val_loss']\n",
        "epochs = range(1,21)\n",
        "plt.plot(epochs, loss_train, 'g', label='Training loss')\n",
        "plt.plot(epochs, loss_val, 'b', label='validation loss')\n",
        "plt.title('Training and Validation loss')\n",
        "plt.xlabel('Epochs')\n",
        "plt.ylabel('Loss')\n",
        "plt.legend()\n",
        "plt.show()"
      ]
    },
    {
      "cell_type": "code",
      "execution_count": null,
      "id": "235fd577-2b71-4f0d-91a4-ddc8bb901e5e",
      "metadata": {
        "tags": [],
        "id": "235fd577-2b71-4f0d-91a4-ddc8bb901e5e"
      },
      "outputs": [],
      "source": [
        "loss_accu = hist.history['accuracy']\n",
        "loss_val_accu = hist.history['val_accuracy']\n",
        "epochs = range(1,21)\n",
        "plt.plot(epochs, loss_accu, 'g', label='Training Accuracy')\n",
        "plt.plot(epochs, loss_val_accu, 'b', label='validation Accuracy')\n",
        "plt.title('Training and Validation Accuracy')\n",
        "plt.xlabel('Epochs')\n",
        "plt.ylabel('accuracy')\n",
        "plt.legend()\n",
        "plt.show()"
      ]
    },
    {
      "cell_type": "code",
      "execution_count": null,
      "id": "7bdacc20-31a3-4086-b4f5-f90679b2a08e",
      "metadata": {
        "id": "7bdacc20-31a3-4086-b4f5-f90679b2a08e"
      },
      "outputs": [],
      "source": [
        "# Reshape data to be compatible with CNN input\n",
        "x_scl = x_scl.reshape(-1, 15, 1)\n",
        "x_test_scl = x_test_scl.reshape(-1, 15, 1)\n",
        "\n",
        "\n",
        "model = Sequential([\n",
        "    Conv1D(64, kernel_size=2, activation='relu', input_shape=(15, 1)),#1d Convolutional Layer\n",
        "    MaxPooling1D(pool_size=2), #maxpooling maximum values of patches\n",
        "    Dropout(0.2),\n",
        "    Conv1D(32, kernel_size=3, activation='relu'),\n",
        "    MaxPooling1D(pool_size=2),\n",
        "    Dropout(0.2),\n",
        "    Flatten(),\n",
        "    Dense(16, activation='sigmoid'),\n",
        "    Dropout(0.2),\n",
        "    Dense(3, activation='softmax')\n",
        "])\n",
        "\n",
        "early_stop = EarlyStopping(monitor='val_loss', patience=10, verbose=1, mode='min', restore_best_weights=True)\n",
        "checkpoint = ModelCheckpoint('best_model.h5', monitor='val_accuracy', mode='max', save_best_only=True, verbose=1)\n",
        "\n",
        "model.compile(optimizer='adam', loss='categorical_crossentropy', metrics=['accuracy'])\n",
        "history = model.fit(x_scl, y_scl, epochs=20, validation_split=0.35, callbacks=[early_stop, checkpoint], validation_data=(x_test_scl, y_test_scl))\n"
      ]
    },
    {
      "cell_type": "code",
      "execution_count": null,
      "id": "27f4ad64-4152-4a04-9975-539900fe422c",
      "metadata": {
        "id": "27f4ad64-4152-4a04-9975-539900fe422c"
      },
      "outputs": [],
      "source": [
        "loss, accuracy = model.evaluate(x_test_scl, y_test_scl)\n",
        "print(loss,accuracy)"
      ]
    },
    {
      "cell_type": "code",
      "execution_count": null,
      "id": "bd749427-db6b-4171-80b0-f67da0244a43",
      "metadata": {
        "tags": [],
        "id": "bd749427-db6b-4171-80b0-f67da0244a43"
      },
      "outputs": [],
      "source": [
        "loss_train = history.history['loss']\n",
        "loss_val = history.history['val_loss']\n",
        "epochs = range(1,21)\n",
        "plt.plot(epochs, loss_train, 'g', label='Training loss')\n",
        "plt.plot(epochs, loss_val, 'b', label='validation loss')\n",
        "plt.title('Training and Validation loss')\n",
        "plt.xlabel('Epochs')\n",
        "plt.ylabel('Loss')\n",
        "plt.legend()\n",
        "plt.show()"
      ]
    },
    {
      "cell_type": "code",
      "execution_count": null,
      "id": "973d0320-8fcc-4ae7-a0cb-e721c041a659",
      "metadata": {
        "tags": [],
        "id": "973d0320-8fcc-4ae7-a0cb-e721c041a659"
      },
      "outputs": [],
      "source": [
        "loss_accu = history.history['accuracy']\n",
        "loss_val_accu = history.history['val_accuracy']\n",
        "epochs = range(1,21)\n",
        "plt.plot(epochs, loss_accu, 'g', label='Training Accuracy')\n",
        "plt.plot(epochs, loss_val_accu, 'b', label='validation Accuracy')\n",
        "plt.title('Training and Validation Accuracy')\n",
        "plt.xlabel('Epochs')\n",
        "plt.ylabel('accuracy')\n",
        "plt.legend()\n",
        "plt.show()"
      ]
    },
    {
      "cell_type": "code",
      "execution_count": null,
      "id": "38720d5e-5e4c-4cd8-9611-ea421fa6f96a",
      "metadata": {
        "id": "38720d5e-5e4c-4cd8-9611-ea421fa6f96a"
      },
      "outputs": [],
      "source": []
    },
    {
      "cell_type": "code",
      "execution_count": null,
      "id": "a5516f20-3948-4e0f-9cd8-ba3af24f31d1",
      "metadata": {
        "id": "a5516f20-3948-4e0f-9cd8-ba3af24f31d1"
      },
      "outputs": [],
      "source": []
    }
  ],
  "metadata": {
    "kernelspec": {
      "display_name": "Python 3",
      "language": "python",
      "name": "python3"
    },
    "language_info": {
      "codemirror_mode": {
        "name": "ipython",
        "version": 3
      },
      "file_extension": ".py",
      "mimetype": "text/x-python",
      "name": "python",
      "nbconvert_exporter": "python",
      "pygments_lexer": "ipython3",
      "version": "3.11.1"
    },
    "colab": {
      "provenance": []
    }
  },
  "nbformat": 4,
  "nbformat_minor": 5
}